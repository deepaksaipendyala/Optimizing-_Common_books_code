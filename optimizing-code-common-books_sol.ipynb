{
 "cells": [
  {
   "cell_type": "markdown",
   "metadata": {},
   "source": [
    "# Optimizing Code: Common Books\n",
    "Here's the code your coworker wrote to find the common book ids in `books_published_last_two_years.txt` and `all_coding_books.txt` to obtain a list of recent coding books."
   ]
  },
  {
   "cell_type": "code",
   "execution_count": 8,
   "metadata": {},
   "outputs": [],
   "source": [
    "import time\n",
    "import pandas as pd\n",
    "import numpy as np"
   ]
  },
  {
   "cell_type": "code",
   "execution_count": 9,
   "metadata": {},
   "outputs": [],
   "source": [
    "with open('books-published-last-two-years.txt') as f:\n",
    "    recent_books = f.read().split('\\n')\n",
    "    \n",
    "with open('all-coding-books.txt') as f:\n",
    "    coding_books = f.read().split('\\n')"
   ]
  },
  {
   "cell_type": "code",
   "execution_count": 18,
   "metadata": {},
   "outputs": [
    {
     "name": "stdout",
     "output_type": "stream",
     "text": [
      "96\n",
      "Duration: 9.078996181488037 seconds\n",
      "['9443002', '6977874', '6163266', '2989078', '7668560', '1901264', '9255617', '5406308', '8873515', '3517640', '1962694', '1694425', '4281481', '2009541', '2706358', '2920394', '2442952', '5951873', '2644909', '6445882', '8621688', '7852176', '9180837', '7804836', '3783712', '6637024', '1713507', '7804101', '9348635', '9497646', '2986045', '6522620', '2239694', '6975356', '8819824', '4717544', '7663370', '8897482', '7170269', '4580997', '7144292', '7148530', '7356628', '8255889', '6495493', '5890905', '7286871', '1264806', '1219701', '1473766', '6964516', '4959393', '3172199', '1258335', '4245126', '4623179', '5353921', '7401186', '4137576', '7286175', '3349989', '6889040', '2462622', '5766722', '4069963', '3264002', '2439487', '8879982', '6599509', '4976621', '7955543', '7406586', '5764540', '8502866', '7308127', '3290103', '1715546', '6005218', '2038925', '8919160', '3066256', '8196889', '7201791', '6595167', '1900178', '3036263', '7689591', '4993512', '9193737', '8604850', '2645238', '5205726', '7231742', '7531095', '9624309', '8558628']\n"
     ]
    }
   ],
   "source": [
    "start = time.time()\n",
    "recent_coding_books = []\n",
    "\n",
    "for book in recent_books:\n",
    "    if book in coding_books:\n",
    "        recent_coding_books.append(book)\n",
    "\n",
    "print(len(recent_coding_books))\n",
    "print('Duration: {} seconds'.format(time.time() - start))\n",
    "print(recent_coding_books)"
   ]
  },
  {
   "cell_type": "markdown",
   "metadata": {},
   "source": [
    "### Tip #1: Use vector operations over loops when possible\n",
    "\n",
    "Use numpy's `intersect1d` method to get the intersection of the `recent_books` and `coding_books` arrays."
   ]
  },
  {
   "cell_type": "code",
   "execution_count": 20,
   "metadata": {
    "scrolled": true
   },
   "outputs": [
    {
     "name": "stdout",
     "output_type": "stream",
     "text": [
      "96\n",
      "Duration: 0.029030323028564453 seconds\n",
      "['1219701' '1258335' '1264806' '1473766' '1694425' '1713507' '1715546'\n",
      " '1900178' '1901264' '1962694' '2009541' '2038925' '2239694' '2439487'\n",
      " '2442952' '2462622' '2644909' '2645238' '2706358' '2920394' '2986045'\n",
      " '2989078' '3036263' '3066256' '3172199' '3264002' '3290103' '3349989'\n",
      " '3517640' '3783712' '4069963' '4137576' '4245126' '4281481' '4580997'\n",
      " '4623179' '4717544' '4959393' '4976621' '4993512' '5205726' '5353921'\n",
      " '5406308' '5764540' '5766722' '5890905' '5951873' '6005218' '6163266'\n",
      " '6445882' '6495493' '6522620' '6595167' '6599509' '6637024' '6889040'\n",
      " '6964516' '6975356' '6977874' '7144292' '7148530' '7170269' '7201791'\n",
      " '7231742' '7286175' '7286871' '7308127' '7356628' '7401186' '7406586'\n",
      " '7531095' '7663370' '7668560' '7689591' '7804101' '7804836' '7852176'\n",
      " '7955543' '8196889' '8255889' '8502866' '8558628' '8604850' '8621688'\n",
      " '8819824' '8873515' '8879982' '8897482' '8919160' '9180837' '9193737'\n",
      " '9255617' '9348635' '9443002' '9497646' '9624309']\n"
     ]
    }
   ],
   "source": [
    "start = time.time()\n",
    "recent_coding_books_1 =  np.intersect1d(recent_books,coding_books)\n",
    "print(len(recent_coding_books_1))\n",
    "print('Duration: {} seconds'.format(time.time() - start))\n",
    "print(recent_coding_books)"
   ]
  },
  {
   "cell_type": "markdown",
   "metadata": {},
   "source": [
    "### Tip #2: Know your data structures and which methods are faster\n",
    "Use the set's `intersection` method to get the common elements in `recent_books` and `coding_books`."
   ]
  },
  {
   "cell_type": "code",
   "execution_count": 21,
   "metadata": {},
   "outputs": [
    {
     "name": "stdout",
     "output_type": "stream",
     "text": [
      "96\n",
      "Duration: 0.004999399185180664 seconds\n"
     ]
    }
   ],
   "source": [
    "start = time.time()\n",
    "recent_coding_books = set(recent_books).intersection(coding_books)\n",
    "print(len(recent_coding_books))\n",
    "print('Duration: {} seconds'.format(time.time() - start))"
   ]
  }
 ],
 "metadata": {
  "kernelspec": {
   "display_name": "Python 3",
   "language": "python",
   "name": "python3"
  },
  "language_info": {
   "codemirror_mode": {
    "name": "ipython",
    "version": 3
   },
   "file_extension": ".py",
   "mimetype": "text/x-python",
   "name": "python",
   "nbconvert_exporter": "python",
   "pygments_lexer": "ipython3",
   "version": "3.8.8"
  }
 },
 "nbformat": 4,
 "nbformat_minor": 2
}
